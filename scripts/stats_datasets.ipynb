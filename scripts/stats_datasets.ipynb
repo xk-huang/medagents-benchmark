{
 "cells": [
  {
   "cell_type": "code",
   "execution_count": 1,
   "id": "046d8223",
   "metadata": {},
   "outputs": [
    {
     "name": "stdout",
     "output_type": "stream",
     "text": [
      "Current working directory: /data1/xhuan192/codes/medagents-benchmark\n"
     ]
    }
   ],
   "source": [
    "import os\n",
    "os.chdir(\"../\")\n",
    "print(f\"Current working directory: {os.getcwd()}\")"
   ]
  },
  {
   "cell_type": "code",
   "execution_count": 2,
   "id": "5a0b6212",
   "metadata": {},
   "outputs": [],
   "source": [
    "from pathlib import Path\n",
    "import json\n",
    "import pprint\n",
    "from collections import OrderedDict"
   ]
  },
  {
   "cell_type": "code",
   "execution_count": 3,
   "id": "4ec8d6a9",
   "metadata": {},
   "outputs": [
    {
     "name": "stdout",
     "output_type": "stream",
     "text": [
      "Data directory contents:\n",
      "['medbullets', 'pubmedqa', 'medxpertqa-r', 'mmlu', 'medmcqa', 'medqa', 'medexqa', 'medxpertqa-u', 'mmlu-pro', 'afrimedqa', 'medqa_5options', 'cache']\n"
     ]
    }
   ],
   "source": [
    "data_dir = \"data\"\n",
    "data_dir = Path(data_dir)\n",
    "# print first level of the data directory\n",
    "print(\"Data directory contents:\")\n",
    "dataset_name_list = [i.stem for i in data_dir.glob(\"*/\")]\n",
    "print(dataset_name_list)"
   ]
  },
  {
   "cell_type": "code",
   "execution_count": 4,
   "id": "2f090c7d",
   "metadata": {},
   "outputs": [
    {
     "name": "stdout",
     "output_type": "stream",
     "text": [
      "File names: ['train.jsonl', 'train_good.jsonl', 'train_hard.jsonl', 'train_good_reimp.jsonl', 'train_hard_reimp.jsonl', 'test.jsonl', 'test_good.jsonl', 'test_hard.jsonl', 'test_good_reimp.jsonl', 'test_hard_reimp.jsonl']\n"
     ]
    }
   ],
   "source": [
    "file_name_list = []\n",
    "for file_type in [\"train\", \"test\"]:\n",
    "    for suffix in [\"\", \"_good\", \"_hard\", \"_good_reimp\", \"_hard_reimp\"]:\n",
    "        file_name_list.append(f\"{file_type}{suffix}.jsonl\")\n",
    "print(f\"File names: {file_name_list}\")"
   ]
  },
  {
   "cell_type": "code",
   "execution_count": 5,
   "id": "f4add71f",
   "metadata": {},
   "outputs": [
    {
     "name": "stdout",
     "output_type": "stream",
     "text": [
      "\n",
      "\n",
      "Dataset: medbullets\n",
      "OrderedDict([('train.jsonl', 10178),\n",
      "             ('train_good_reimp.jsonl', 9200),\n",
      "             ('train_hard_reimp.jsonl', 2525),\n",
      "             ('test.jsonl', 308),\n",
      "             ('test_good.jsonl', 192),\n",
      "             ('test_hard.jsonl', 89),\n",
      "             ('test_good_reimp.jsonl', 190),\n",
      "             ('test_hard_reimp.jsonl', 83)])\n",
      "\n",
      "\n",
      "Dataset: pubmedqa\n",
      "OrderedDict([('train.jsonl', 450),\n",
      "             ('train_good_reimp.jsonl', 435),\n",
      "             ('train_hard_reimp.jsonl', 97),\n",
      "             ('test.jsonl', 500),\n",
      "             ('test_good.jsonl', 495),\n",
      "             ('test_hard.jsonl', 100),\n",
      "             ('test_good_reimp.jsonl', 486),\n",
      "             ('test_hard_reimp.jsonl', 117)])\n",
      "\n",
      "\n",
      "Dataset: medxpertqa-r\n",
      "OrderedDict([('train.jsonl', 5),\n",
      "             ('train_good_reimp.jsonl', 5),\n",
      "             ('train_hard_reimp.jsonl', 3),\n",
      "             ('test.jsonl', 1861),\n",
      "             ('test_hard.jsonl', 100),\n",
      "             ('test_good_reimp.jsonl', 1833),\n",
      "             ('test_hard_reimp.jsonl', 1583)])\n",
      "\n",
      "\n",
      "Dataset: mmlu\n",
      "OrderedDict([('train.jsonl', 5),\n",
      "             ('train_good_reimp.jsonl', 5),\n",
      "             ('train_hard_reimp.jsonl', 3),\n",
      "             ('test.jsonl', 1089),\n",
      "             ('test_good.jsonl', 1087),\n",
      "             ('test_hard.jsonl', 73),\n",
      "             ('test_good_reimp.jsonl', 1085),\n",
      "             ('test_hard_reimp.jsonl', 172)])\n",
      "\n",
      "\n",
      "Dataset: medmcqa\n",
      "OrderedDict([('train.jsonl', 120765),\n",
      "             ('train_good_reimp.jsonl', 118400),\n",
      "             ('train_hard_reimp.jsonl', 30331),\n",
      "             ('test.jsonl', 2816),\n",
      "             ('test_good.jsonl', 2736),\n",
      "             ('test_hard.jsonl', 100),\n",
      "             ('test_good_reimp.jsonl', 2728),\n",
      "             ('test_hard_reimp.jsonl', 913)])\n",
      "\n",
      "\n",
      "Dataset: medqa\n",
      "OrderedDict([('train.jsonl', 10178),\n",
      "             ('train_good_reimp.jsonl', 9201),\n",
      "             ('train_hard_reimp.jsonl', 2517),\n",
      "             ('test.jsonl', 1273),\n",
      "             ('test_good.jsonl', 1156),\n",
      "             ('test_hard.jsonl', 100),\n",
      "             ('test_good_reimp.jsonl', 1147),\n",
      "             ('test_hard_reimp.jsonl', 293)])\n",
      "\n",
      "\n",
      "Dataset: medexqa\n",
      "OrderedDict([('train.jsonl', 20),\n",
      "             ('train_good_reimp.jsonl', 20),\n",
      "             ('train_hard_reimp.jsonl', 1),\n",
      "             ('test.jsonl', 935),\n",
      "             ('test_hard.jsonl', 100),\n",
      "             ('test_good_reimp.jsonl', 930),\n",
      "             ('test_hard_reimp.jsonl', 196)])\n",
      "\n",
      "\n",
      "Dataset: medxpertqa-u\n",
      "OrderedDict([('train.jsonl', 5),\n",
      "             ('train_good_reimp.jsonl', 5),\n",
      "             ('train_hard_reimp.jsonl', 3),\n",
      "             ('test.jsonl', 589),\n",
      "             ('test_hard.jsonl', 100),\n",
      "             ('test_good_reimp.jsonl', 576),\n",
      "             ('test_hard_reimp.jsonl', 480)])\n",
      "\n",
      "\n",
      "Dataset: mmlu-pro\n",
      "OrderedDict([('train.jsonl', 5),\n",
      "             ('train_good_reimp.jsonl', 5),\n",
      "             ('train_hard_reimp.jsonl', 3),\n",
      "             ('test.jsonl', 818),\n",
      "             ('test_good.jsonl', 813),\n",
      "             ('test_hard.jsonl', 100),\n",
      "             ('test_good_reimp.jsonl', 811),\n",
      "             ('test_hard_reimp.jsonl', 308)])\n",
      "\n",
      "\n",
      "Dataset: afrimedqa\n",
      "OrderedDict([('train.jsonl', 124),\n",
      "             ('train_good_reimp.jsonl', 124),\n",
      "             ('train_hard_reimp.jsonl', 30),\n",
      "             ('test.jsonl', 174),\n",
      "             ('test_good.jsonl', 172),\n",
      "             ('test_hard.jsonl', 32),\n",
      "             ('test_good_reimp.jsonl', 166),\n",
      "             ('test_hard_reimp.jsonl', 42)])\n",
      "\n",
      "\n",
      "Dataset: medqa_5options\n",
      "OrderedDict([('test.jsonl', 1273),\n",
      "             ('test_good.jsonl', 1156),\n",
      "             ('test_hard.jsonl', 357),\n",
      "             ('test_good_reimp.jsonl', 1148),\n",
      "             ('test_hard_reimp.jsonl', 358)])\n",
      "\n",
      "\n",
      "Dataset: cache\n",
      "OrderedDict()\n"
     ]
    }
   ],
   "source": [
    "for dataset_name in dataset_name_list:\n",
    "    dataset_stats = OrderedDict()\n",
    "    print(f\"\\n\\nDataset: {dataset_name}\")\n",
    "    for file_name in file_name_list:\n",
    "        # check if the file exists\n",
    "        file_path = data_dir / dataset_name / file_name\n",
    "        if not file_path.exists():\n",
    "            # print(f\"File {file_path} does not exist.\")\n",
    "            continue\n",
    "\n",
    "        # print(f\"File {file_path} exists.\")\n",
    "        data = []\n",
    "        for line in file_path.open(\"r\"):\n",
    "            line = line.strip()\n",
    "            if not line:\n",
    "                continue\n",
    "            # check if the line is a valid JSON\n",
    "            try:\n",
    "                data.append(json.loads(line))\n",
    "            except json.JSONDecodeError:\n",
    "                print(f\"Invalid JSON in file {file_path}: {line}\")\n",
    "                continue\n",
    "        dataset_stats[file_name] =  len(data)\n",
    "    pprint.pprint(dataset_stats)\n",
    "\n",
    "        "
   ]
  },
  {
   "cell_type": "code",
   "execution_count": 6,
   "id": "ffbcf2f8",
   "metadata": {},
   "outputs": [
    {
     "data": {
      "text/plain": [
       "{'question': 'A 51-year-old man is brought to the physician by his wife because of a 3-week history of abnormal behavior. His wife reports he has been preoccupied with gambling at the local casino. He becomes restless and irritable when his wife attempts to restrict his gambling. Four months ago, he was diagnosed with Parkinson disease and treatment was initiated. Which of the following best describes the mechanism of action of the drug that was most likely prescribed for this patient?',\n",
       " 'answer': 'Direct activation of dopamine receptors',\n",
       " 'options': {'A': 'Peripheral inhibition of DOPA decarboxylase',\n",
       "  'B': 'Increase in availability of dopamine',\n",
       "  'C': 'Direct activation of dopamine receptors',\n",
       "  'D': 'Selective inhibition of monoamine oxidase B',\n",
       "  'E': 'Inhibition of catechol-O-methyl transferase'},\n",
       " 'meta_info': 'step1',\n",
       " 'answer_idx': 'C',\n",
       " 'cleanse_cot': \"The problem describes a clinical scenario involving a patient with Parkinson's disease who has developed abnormal behavior, likely due to a side effect of a prescribed medication. The question asks for the mechanism of action of the drug most likely responsible for the patient's symptoms. \\n\\nTo evaluate whether the problem omits any original content:\\n\\n1. The question does not refer to or imply the need for any graphs, figures, charts, tables, images, or other visual resources. \\n2. All the necessary information to solve the problem is provided in the text, including the patient's clinical history, the timeline of events, and the options for the mechanism of action of the drug.\\n3. There is no mention of missing visual aids or external references that are required to answer the question.\\n\\nThus, the problem is self-contained and does not rely on any missing original content.\\n\\n###  \\nText Only\",\n",
       " 'predicted_answer_base_direct': 'A'}"
      ]
     },
     "execution_count": 6,
     "metadata": {},
     "output_type": "execute_result"
    }
   ],
   "source": [
    "json.loads(line)"
   ]
  }
 ],
 "metadata": {
  "kernelspec": {
   "display_name": "med_agents_bench",
   "language": "python",
   "name": "python3"
  },
  "language_info": {
   "codemirror_mode": {
    "name": "ipython",
    "version": 3
   },
   "file_extension": ".py",
   "mimetype": "text/x-python",
   "name": "python",
   "nbconvert_exporter": "python",
   "pygments_lexer": "ipython3",
   "version": "3.12.9"
  }
 },
 "nbformat": 4,
 "nbformat_minor": 5
}
